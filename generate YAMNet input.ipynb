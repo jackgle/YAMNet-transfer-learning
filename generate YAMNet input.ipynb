{
 "cells": [
  {
   "cell_type": "code",
   "execution_count": 1,
   "metadata": {},
   "outputs": [],
   "source": [
    "import os\n",
    "os.sys.path.append('./audioset/yamnet')\n",
    "import params\n",
    "import features as features_lib\n",
    "\n",
    "import numpy as np\n",
    "import resampy\n",
    "import soundfile as sf\n",
    "import tensorflow as tf\n",
    "\n",
    "# Directory with wav files for each class\n",
    "train_dir = './train_set/'\n",
    "# Directory that will store the spectrogram inputs for each class\n",
    "out_dir = './train_set_patches/'\n",
    "\n",
    "if not os.path.exists(out_dir):\n",
    "    os.mkdir(out_dir)\n",
    "    for i in os.listdir(train_dir):\n",
    "        os.mkdir(out_dir+i)"
   ]
  },
  {
   "cell_type": "code",
   "execution_count": 2,
   "metadata": {},
   "outputs": [
    {
     "name": "stdout",
     "output_type": "stream",
     "text": [
      "chainsaw\n",
      "environment\n"
     ]
    }
   ],
   "source": [
    "for cls in os.listdir(train_dir):\n",
    "    print(cls)\n",
    "    for smp in os.listdir(train_dir+cls):\n",
    "        \n",
    "        wav_data, sr = sf.read(train_dir+cls+'/'+smp, dtype=np.int16)\n",
    "        assert wav_data.dtype == np.int16, 'Bad sample type: %r' % wav_data.dtype\n",
    "        waveform = wav_data / 32768.0\n",
    "        \n",
    "        if len(waveform.shape) > 1:\n",
    "            waveform = np.mean(waveform, axis=1)\n",
    "        if sr != params.SAMPLE_RATE:\n",
    "            waveform = resampy.resample(waveform, sr, params.SAMPLE_RATE)\n",
    "            \n",
    "        waveform = np.reshape(waveform, [1, -1]).astype(np.float32)\n",
    "        spectrogram = features_lib. \\\n",
    "                      waveform_to_log_mel_spectrogram(tf.squeeze(waveform, axis=0), \n",
    "                                                      params)\n",
    "        patches = features_lib. \\\n",
    "                  spectrogram_to_patches(spectrogram, params)\n",
    "        \n",
    "        np.save(out_dir+cls+'/'+smp+'.npy', patches)"
   ]
  },
  {
   "cell_type": "code",
   "execution_count": null,
   "metadata": {},
   "outputs": [],
   "source": []
  }
 ],
 "metadata": {
  "kernelspec": {
   "display_name": "env0",
   "language": "python",
   "name": "env0"
  },
  "language_info": {
   "codemirror_mode": {
    "name": "ipython",
    "version": 3
   },
   "file_extension": ".py",
   "mimetype": "text/x-python",
   "name": "python",
   "nbconvert_exporter": "python",
   "pygments_lexer": "ipython3",
   "version": "3.7.8"
  }
 },
 "nbformat": 4,
 "nbformat_minor": 2
}
