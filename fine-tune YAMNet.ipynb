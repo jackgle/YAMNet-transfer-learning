{
 "cells": [
  {
   "cell_type": "code",
   "execution_count": 1,
   "metadata": {},
   "outputs": [],
   "source": [
    "import os\n",
    "import json\n",
    "os.sys.path.append('./audioset/yamnet')\n",
    "import yamnet as yamnet_model\n",
    "import params\n",
    "from datagen_yamnet import DataGenerator, get_files_and_labels\n",
    "\n",
    "import tensorflow as tf\n",
    "from tensorflow.keras.models import Model\n",
    "from tensorflow.keras.callbacks import ModelCheckpoint, ReduceLROnPlateau\n",
    "\n",
    "# Directory storing the spectrogram inputs for each class\n",
    "train_dir = './train_set_patches/'\n",
    "\n",
    "# Path to output model\n",
    "model_out = './saved_models/model'\n"
   ]
  },
  {
   "cell_type": "markdown",
   "metadata": {},
   "source": [
    "#### Get training data files and labels"
   ]
  },
  {
   "cell_type": "code",
   "execution_count": 2,
   "metadata": {},
   "outputs": [],
   "source": [
    "# The 'train_split' parameter below sets how much of the training data will be randomly sampled for test data\n",
    "files_train, files_val, labels = get_files_and_labels(train_dir, \n",
    "                                                    typ='npy',\n",
    "                                                    train_split=0.8)\n",
    "\n",
    "# If you want to use your own separate folder with test samples instead, do this:\n",
    "# files_train, _, labels class_dict = get_files_and_labels(train_dir, \n",
    "#                                                         typ='npy',\n",
    "#                                                         train_split=1)\n",
    "# files_val, _, _ = get_files_and_labels(test_dir, \n",
    "#                                         typ='npy',\n",
    "#                                         train_split=1)\n"
   ]
  },
  {
   "cell_type": "markdown",
   "metadata": {},
   "source": [
    "#### Load pre-trained YAMNet"
   ]
  },
  {
   "cell_type": "code",
   "execution_count": 3,
   "metadata": {},
   "outputs": [],
   "source": [
    "yamnet = yamnet_model.yamnet_model()\n",
    "yamnet.load_weights('./audioset/yamnet/yamnet.h5')"
   ]
  },
  {
   "cell_type": "code",
   "execution_count": 4,
   "metadata": {},
   "outputs": [],
   "source": [
    "# yamnet.summary()"
   ]
  },
  {
   "cell_type": "markdown",
   "metadata": {},
   "source": [
    "#### Define custom \"top\" of YAMNet graph"
   ]
  },
  {
   "cell_type": "code",
   "execution_count": 5,
   "metadata": {
    "scrolled": true
   },
   "outputs": [
    {
     "name": "stdout",
     "output_type": "stream",
     "text": [
      "Model: \"functional_1\"\n",
      "_________________________________________________________________\n",
      "Layer (type)                 Output Shape              Param #   \n",
      "=================================================================\n",
      "input_1 (InputLayer)         [(None, 96, 64)]          0         \n",
      "_________________________________________________________________\n",
      "reshape (Reshape)            (None, 96, 64, 1)         0         \n",
      "_________________________________________________________________\n",
      "layer1/conv (Conv2D)         (None, 48, 32, 32)        288       \n",
      "_________________________________________________________________\n",
      "layer1/conv/bn (BatchNormali (None, 48, 32, 32)        96        \n",
      "_________________________________________________________________\n",
      "layer1/relu (ReLU)           (None, 48, 32, 32)        0         \n",
      "_________________________________________________________________\n",
      "layer2/depthwise_conv (Depth (None, 48, 32, 32)        288       \n",
      "_________________________________________________________________\n",
      "layer2/depthwise_conv/bn (Ba (None, 48, 32, 32)        96        \n",
      "_________________________________________________________________\n",
      "layer2/depthwise_conv/relu ( (None, 48, 32, 32)        0         \n",
      "_________________________________________________________________\n",
      "layer2/pointwise_conv (Conv2 (None, 48, 32, 64)        2048      \n",
      "_________________________________________________________________\n",
      "layer2/pointwise_conv/bn (Ba (None, 48, 32, 64)        192       \n",
      "_________________________________________________________________\n",
      "layer2/pointwise_conv/relu ( (None, 48, 32, 64)        0         \n",
      "_________________________________________________________________\n",
      "layer3/depthwise_conv (Depth (None, 24, 16, 64)        576       \n",
      "_________________________________________________________________\n",
      "layer3/depthwise_conv/bn (Ba (None, 24, 16, 64)        192       \n",
      "_________________________________________________________________\n",
      "layer3/depthwise_conv/relu ( (None, 24, 16, 64)        0         \n",
      "_________________________________________________________________\n",
      "layer3/pointwise_conv (Conv2 (None, 24, 16, 128)       8192      \n",
      "_________________________________________________________________\n",
      "layer3/pointwise_conv/bn (Ba (None, 24, 16, 128)       384       \n",
      "_________________________________________________________________\n",
      "layer3/pointwise_conv/relu ( (None, 24, 16, 128)       0         \n",
      "_________________________________________________________________\n",
      "layer4/depthwise_conv (Depth (None, 24, 16, 128)       1152      \n",
      "_________________________________________________________________\n",
      "layer4/depthwise_conv/bn (Ba (None, 24, 16, 128)       384       \n",
      "_________________________________________________________________\n",
      "layer4/depthwise_conv/relu ( (None, 24, 16, 128)       0         \n",
      "_________________________________________________________________\n",
      "layer4/pointwise_conv (Conv2 (None, 24, 16, 128)       16384     \n",
      "_________________________________________________________________\n",
      "layer4/pointwise_conv/bn (Ba (None, 24, 16, 128)       384       \n",
      "_________________________________________________________________\n",
      "layer4/pointwise_conv/relu ( (None, 24, 16, 128)       0         \n",
      "_________________________________________________________________\n",
      "layer5/depthwise_conv (Depth (None, 12, 8, 128)        1152      \n",
      "_________________________________________________________________\n",
      "layer5/depthwise_conv/bn (Ba (None, 12, 8, 128)        384       \n",
      "_________________________________________________________________\n",
      "layer5/depthwise_conv/relu ( (None, 12, 8, 128)        0         \n",
      "_________________________________________________________________\n",
      "layer5/pointwise_conv (Conv2 (None, 12, 8, 256)        32768     \n",
      "_________________________________________________________________\n",
      "layer5/pointwise_conv/bn (Ba (None, 12, 8, 256)        768       \n",
      "_________________________________________________________________\n",
      "layer5/pointwise_conv/relu ( (None, 12, 8, 256)        0         \n",
      "_________________________________________________________________\n",
      "layer6/depthwise_conv (Depth (None, 12, 8, 256)        2304      \n",
      "_________________________________________________________________\n",
      "layer6/depthwise_conv/bn (Ba (None, 12, 8, 256)        768       \n",
      "_________________________________________________________________\n",
      "layer6/depthwise_conv/relu ( (None, 12, 8, 256)        0         \n",
      "_________________________________________________________________\n",
      "layer6/pointwise_conv (Conv2 (None, 12, 8, 256)        65536     \n",
      "_________________________________________________________________\n",
      "layer6/pointwise_conv/bn (Ba (None, 12, 8, 256)        768       \n",
      "_________________________________________________________________\n",
      "layer6/pointwise_conv/relu ( (None, 12, 8, 256)        0         \n",
      "_________________________________________________________________\n",
      "layer7/depthwise_conv (Depth (None, 6, 4, 256)         2304      \n",
      "_________________________________________________________________\n",
      "layer7/depthwise_conv/bn (Ba (None, 6, 4, 256)         768       \n",
      "_________________________________________________________________\n",
      "layer7/depthwise_conv/relu ( (None, 6, 4, 256)         0         \n",
      "_________________________________________________________________\n",
      "layer7/pointwise_conv (Conv2 (None, 6, 4, 512)         131072    \n",
      "_________________________________________________________________\n",
      "layer7/pointwise_conv/bn (Ba (None, 6, 4, 512)         1536      \n",
      "_________________________________________________________________\n",
      "layer7/pointwise_conv/relu ( (None, 6, 4, 512)         0         \n",
      "_________________________________________________________________\n",
      "layer8/depthwise_conv (Depth (None, 6, 4, 512)         4608      \n",
      "_________________________________________________________________\n",
      "layer8/depthwise_conv/bn (Ba (None, 6, 4, 512)         1536      \n",
      "_________________________________________________________________\n",
      "layer8/depthwise_conv/relu ( (None, 6, 4, 512)         0         \n",
      "_________________________________________________________________\n",
      "layer8/pointwise_conv (Conv2 (None, 6, 4, 512)         262144    \n",
      "_________________________________________________________________\n",
      "layer8/pointwise_conv/bn (Ba (None, 6, 4, 512)         1536      \n",
      "_________________________________________________________________\n",
      "layer8/pointwise_conv/relu ( (None, 6, 4, 512)         0         \n",
      "_________________________________________________________________\n",
      "layer9/depthwise_conv (Depth (None, 6, 4, 512)         4608      \n",
      "_________________________________________________________________\n",
      "layer9/depthwise_conv/bn (Ba (None, 6, 4, 512)         1536      \n",
      "_________________________________________________________________\n",
      "layer9/depthwise_conv/relu ( (None, 6, 4, 512)         0         \n",
      "_________________________________________________________________\n",
      "layer9/pointwise_conv (Conv2 (None, 6, 4, 512)         262144    \n",
      "_________________________________________________________________\n",
      "layer9/pointwise_conv/bn (Ba (None, 6, 4, 512)         1536      \n",
      "_________________________________________________________________\n",
      "layer9/pointwise_conv/relu ( (None, 6, 4, 512)         0         \n",
      "_________________________________________________________________\n",
      "layer10/depthwise_conv (Dept (None, 6, 4, 512)         4608      \n",
      "_________________________________________________________________\n",
      "layer10/depthwise_conv/bn (B (None, 6, 4, 512)         1536      \n",
      "_________________________________________________________________\n",
      "layer10/depthwise_conv/relu  (None, 6, 4, 512)         0         \n",
      "_________________________________________________________________\n",
      "layer10/pointwise_conv (Conv (None, 6, 4, 512)         262144    \n",
      "_________________________________________________________________\n",
      "layer10/pointwise_conv/bn (B (None, 6, 4, 512)         1536      \n",
      "_________________________________________________________________\n",
      "layer10/pointwise_conv/relu  (None, 6, 4, 512)         0         \n",
      "_________________________________________________________________\n",
      "layer11/depthwise_conv (Dept (None, 6, 4, 512)         4608      \n",
      "_________________________________________________________________\n",
      "layer11/depthwise_conv/bn (B (None, 6, 4, 512)         1536      \n",
      "_________________________________________________________________\n",
      "layer11/depthwise_conv/relu  (None, 6, 4, 512)         0         \n",
      "_________________________________________________________________\n",
      "layer11/pointwise_conv (Conv (None, 6, 4, 512)         262144    \n",
      "_________________________________________________________________\n",
      "layer11/pointwise_conv/bn (B (None, 6, 4, 512)         1536      \n",
      "_________________________________________________________________\n",
      "layer11/pointwise_conv/relu  (None, 6, 4, 512)         0         \n",
      "_________________________________________________________________\n",
      "layer12/depthwise_conv (Dept (None, 6, 4, 512)         4608      \n",
      "_________________________________________________________________\n",
      "layer12/depthwise_conv/bn (B (None, 6, 4, 512)         1536      \n",
      "_________________________________________________________________\n",
      "layer12/depthwise_conv/relu  (None, 6, 4, 512)         0         \n",
      "_________________________________________________________________\n",
      "layer12/pointwise_conv (Conv (None, 6, 4, 512)         262144    \n",
      "_________________________________________________________________\n",
      "layer12/pointwise_conv/bn (B (None, 6, 4, 512)         1536      \n",
      "_________________________________________________________________\n",
      "layer12/pointwise_conv/relu  (None, 6, 4, 512)         0         \n",
      "_________________________________________________________________\n",
      "layer13/depthwise_conv (Dept (None, 3, 2, 512)         4608      \n",
      "_________________________________________________________________\n",
      "layer13/depthwise_conv/bn (B (None, 3, 2, 512)         1536      \n",
      "_________________________________________________________________\n",
      "layer13/depthwise_conv/relu  (None, 3, 2, 512)         0         \n",
      "_________________________________________________________________\n",
      "layer13/pointwise_conv (Conv (None, 3, 2, 1024)        524288    \n",
      "_________________________________________________________________\n",
      "layer13/pointwise_conv/bn (B (None, 3, 2, 1024)        3072      \n",
      "_________________________________________________________________\n",
      "layer13/pointwise_conv/relu  (None, 3, 2, 1024)        0         \n",
      "_________________________________________________________________\n",
      "layer14/depthwise_conv (Dept (None, 3, 2, 1024)        9216      \n",
      "_________________________________________________________________\n",
      "layer14/depthwise_conv/bn (B (None, 3, 2, 1024)        3072      \n",
      "_________________________________________________________________\n",
      "layer14/depthwise_conv/relu  (None, 3, 2, 1024)        0         \n",
      "_________________________________________________________________\n",
      "layer14/pointwise_conv (Conv (None, 3, 2, 1024)        1048576   \n",
      "_________________________________________________________________\n",
      "layer14/pointwise_conv/bn (B (None, 3, 2, 1024)        3072      \n",
      "_________________________________________________________________\n",
      "layer14/pointwise_conv/relu  (None, 3, 2, 1024)        0         \n",
      "_________________________________________________________________\n",
      "global_average_pooling2d (Gl (None, 1024)              0         \n",
      "_________________________________________________________________\n",
      "dense_1 (Dense)              (None, 64)                65600     \n",
      "_________________________________________________________________\n",
      "dropout (Dropout)            (None, 64)                0         \n",
      "_________________________________________________________________\n",
      "dense_2 (Dense)              (None, 2)                 130       \n",
      "=================================================================\n",
      "Total params: 3,283,074\n",
      "Trainable params: 3,261,186\n",
      "Non-trainable params: 21,888\n",
      "_________________________________________________________________\n"
     ]
    }
   ],
   "source": [
    "x = tf.keras.layers.Dense(64, activation='relu')(yamnet.layers[-3].output)\n",
    "o = tf.keras.layers.Dropout(0.5)(x)\n",
    "o = tf.keras.layers.Dense(2, activation='softmax')(o)\n",
    "\n",
    "model = Model(inputs=yamnet.input, outputs=o)\n",
    "\n",
    "for layer in model.layers:\n",
    "    layer.trainable = True\n",
    "\n",
    "model.summary()"
   ]
  },
  {
   "cell_type": "markdown",
   "metadata": {},
   "source": [
    "#### Initialize data generators"
   ]
  },
  {
   "cell_type": "code",
   "execution_count": 6,
   "metadata": {},
   "outputs": [],
   "source": [
    "batch_size = 1\n",
    "\n",
    "train_generator = DataGenerator(files_train,\n",
    "                                labels,\n",
    "                                batch_size=batch_size)\n",
    "validation_generator = DataGenerator(files_val,\n",
    "                                    labels,\n",
    "                                    batch_size=batch_size)"
   ]
  },
  {
   "cell_type": "markdown",
   "metadata": {},
   "source": [
    "#### Define training hyperparameters"
   ]
  },
  {
   "cell_type": "code",
   "execution_count": 7,
   "metadata": {
    "scrolled": false
   },
   "outputs": [
    {
     "name": "stdout",
     "output_type": "stream",
     "text": [
      "Saved model architecture\n"
     ]
    }
   ],
   "source": [
    "# Save model architecture\n",
    "model_json = model.to_json()\n",
    "with open(model_out+'.json', \"w\") as json_file:\n",
    "    json_file.write(model_json)\n",
    "with open(model_out+'_classes.json', 'w') as f:\n",
    "    json.dump(labels, f)\n",
    "print('Saved model architecture')\n",
    "\n",
    "# Define training callbacks\n",
    "checkpoint = ModelCheckpoint(model_out+'.h5',\n",
    "                             monitor='val_loss', \n",
    "                             verbose=1,\n",
    "                             save_best_only=True, \n",
    "                             mode='auto')\n",
    "\n",
    "reducelr = ReduceLROnPlateau(monitor='val_loss', \n",
    "                              factor=0.5, \n",
    "                              patience=3, \n",
    "                              verbose=1)\n",
    "\n",
    "# Compile model\n",
    "optimizer = tf.keras.optimizers.Adam(lr=0.0001)\n",
    "model.compile(loss='binary_crossentropy', optimizer=optimizer)\n",
    "    "
   ]
  },
  {
   "cell_type": "markdown",
   "metadata": {},
   "source": [
    "#### Train"
   ]
  },
  {
   "cell_type": "code",
   "execution_count": 8,
   "metadata": {},
   "outputs": [
    {
     "name": "stdout",
     "output_type": "stream",
     "text": [
      "Epoch 1/3\n",
      "8/8 [==============================] - ETA: 0s - loss: 0.7389\n",
      "Epoch 00001: val_loss improved from inf to 0.78352, saving model to ./saved_models\\model.h5\n",
      "8/8 [==============================] - 3s 338ms/step - loss: 0.7389 - val_loss: 0.7835\n",
      "Epoch 2/3\n",
      "8/8 [==============================] - ETA: 0s - loss: 0.7317\n",
      "Epoch 00002: val_loss improved from 0.78352 to 0.72585, saving model to ./saved_models\\model.h5\n",
      "8/8 [==============================] - 1s 187ms/step - loss: 0.7317 - val_loss: 0.7259\n",
      "Epoch 3/3\n",
      "8/8 [==============================] - ETA: 0s - loss: 0.6731\n",
      "Epoch 00003: val_loss improved from 0.72585 to 0.72578, saving model to ./saved_models\\model.h5\n",
      "8/8 [==============================] - 2s 213ms/step - loss: 0.6731 - val_loss: 0.7258\n"
     ]
    }
   ],
   "source": [
    "model_history = model.fit(train_generator,\n",
    "                            steps_per_epoch = len(train_generator),\n",
    "                            epochs = 3,\n",
    "                            validation_data = validation_generator,\n",
    "                            validation_steps = len(validation_generator),\n",
    "                            verbose = 1,\n",
    "                            callbacks=[checkpoint, reducelr])\n"
   ]
  },
  {
   "cell_type": "markdown",
   "metadata": {},
   "source": [
    "#### Plot training history"
   ]
  },
  {
   "cell_type": "code",
   "execution_count": 10,
   "metadata": {},
   "outputs": [
    {
     "data": {
      "image/png": "[encoded data removed]",
      "text/plain": [
       "<Figure size 432x288 with 1 Axes>"
      ]
     },
     "metadata": {
      "needs_background": "light"
     },
     "output_type": "display_data"
    }
   ],
   "source": [
    "import matplotlib.pyplot as plt\n",
    "plt.plot(model_history.history['loss'])\n",
    "plt.plot(model_history.history['val_loss'])\n",
    "plt.title('model loss')\n",
    "plt.ylabel('loss')\n",
    "plt.xlabel('epoch')\n",
    "plt.legend(['training', 'validation'], loc='upper left')\n",
    "plt.show()"
   ]
  },
  {
   "cell_type": "code",
   "execution_count": null,
   "metadata": {},
   "outputs": [],
   "source": []
  }
 ],
 "metadata": {
  "kernelspec": {
   "display_name": "env0",
   "language": "python",
   "name": "env0"
  },
  "language_info": {
   "codemirror_mode": {
    "name": "ipython",
    "version": 3
   },
   "file_extension": ".py",
   "mimetype": "text/x-python",
   "name": "python",
   "nbconvert_exporter": "python",
   "pygments_lexer": "ipython3",
   "version": "3.7.8"
  }
 },
 "nbformat": 4,
 "nbformat_minor": 2
}
