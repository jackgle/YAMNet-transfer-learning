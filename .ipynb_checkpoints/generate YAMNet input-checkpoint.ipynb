{
 "cells": [
  {
   "cell_type": "code",
   "execution_count": null,
   "metadata": {},
   "outputs": [],
   "source": [
    "# Path to tensorflow model research directory for yamnet\n",
    "# https://github.com/tensorflow/models/tree/master/research/audioset\n",
    "yamnet_path = '/home/ubuntu/models/research/audioset/yamnet/'\n"
   ]
  },
  {
   "cell_type": "code",
   "execution_count": null,
   "metadata": {},
   "outputs": [],
   "source": [
    "import os\n",
    "os.sys.path.insert(0, yamnet_path)\n",
    "from params import Params as params\n",
    "import features as features_lib\n",
    "\n",
    "import numpy as np\n",
    "import resampy\n",
    "import soundfile as sf\n",
    "import tensorflow as tf\n",
    "\n",
    "# Directory with wav files for each class\n",
    "train_dir = './train_set/'\n",
    "# Directory that will store the spectrogram inputs for each class\n",
    "out_dir = './train_set_patches/'\n",
    "\n",
    "if not os.path.exists(out_dir):\n",
    "    os.mkdir(out_dir)\n",
    "    for i in os.listdir(train_dir):\n",
    "        os.mkdir(out_dir+i)\n",
    "        "
   ]
  },
  {
   "cell_type": "code",
   "execution_count": null,
   "metadata": {},
   "outputs": [],
   "source": [
    "for cls in os.listdir(train_dir):\n",
    "    print(cls)\n",
    "    for smp in os.listdir(train_dir+cls):\n",
    "        \n",
    "        wav_data, sr = sf.read(train_dir+cls+'/'+smp, dtype=np.int16)\n",
    "        assert wav_data.dtype == np.int16, 'Bad sample type: %r' % wav_data.dtype\n",
    "        waveform = wav_data / 32768.0\n",
    "        \n",
    "        if len(waveform.shape) > 1:\n",
    "            waveform = waveform[:,0] # get left channel if multi-channel\n",
    "        if sr != params.sample_rate:\n",
    "            waveform = resampy.resample(waveform, sr, params.sample_rate)\n",
    "            \n",
    "        waveform = np.reshape(waveform, [1, -1]).astype(np.float32)\n",
    "        _, patches = features_lib.waveform_to_log_mel_spectrogram_patches(tf.squeeze(waveform, axis=0), params)\n",
    "        \n",
    "        np.save(out_dir+cls+'/'+smp+'.npy', patches)\n",
    "        "
   ]
  },
  {
   "cell_type": "code",
   "execution_count": null,
   "metadata": {},
   "outputs": [],
   "source": []
  }
 ],
 "metadata": {
  "kernelspec": {
   "display_name": "Python 3 (ipykernel)",
   "language": "python",
   "name": "python3"
  },
  "language_info": {
   "codemirror_mode": {
    "name": "ipython",
    "version": 3
   },
   "file_extension": ".py",
   "mimetype": "text/x-python",
   "name": "python",
   "nbconvert_exporter": "python",
   "pygments_lexer": "ipython3",
   "version": "3.9.5"
  }
 },
 "nbformat": 4,
 "nbformat_minor": 2
}
